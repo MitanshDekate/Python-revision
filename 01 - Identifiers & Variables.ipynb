{
 "cells": [
  {
   "cell_type": "code",
   "execution_count": null,
   "id": "45c381c6",
   "metadata": {},
   "outputs": [],
   "source": [
    "#Keywords:\n",
    "True False\n",
    "if elif else / while / for\n",
    "def\n",
    "global\n",
    "import / as\n",
    "and / or / not\n",
    "break / del / from"
   ]
  },
  {
   "cell_type": "code",
   "execution_count": null,
   "id": "6da1c7d7",
   "metadata": {},
   "outputs": [],
   "source": [
    "#IDENTIFIERS:\n",
    "\n",
    "#Correct Ways:\n",
    "a=10\n",
    "a=(10,12,13,17)\n",
    "a,b,c,d=10,12,13,17\n",
    "roll_number=12\n",
    "\n",
    "#Wrong Ways:\n",
    "\n",
    "# 1. Do not start with \"@, #, $, %\" or any other special symbol.\n",
    "        @roll_number=12     --->   error\n",
    "    \n",
    "# 2. Do not start with a number/digit.\n",
    "        10_roll_number=12   --->   error\n",
    "    \n",
    "# 3. Do not add spaces between characters while defining a variable.\n",
    "        roll number=12      --->   error\n",
    "    \n",
    "# 4. Keywords can't be assigned values (used to define variables).\n",
    "        True=12   --->   error\n",
    "        if=10     --->   error"
   ]
  },
  {
   "cell_type": "code",
   "execution_count": null,
   "id": "d74cc98c",
   "metadata": {},
   "outputs": [],
   "source": [
    "#Variables:\n",
    "#Datatype [10 --> Integer, 99.5 --> Decimal/Float, \"Mitansh\" --> String]"
   ]
  },
  {
   "cell_type": "code",
   "execution_count": 1,
   "id": "6be29f08",
   "metadata": {},
   "outputs": [
    {
     "name": "stdout",
     "output_type": "stream",
     "text": [
      "<class 'int'>\n",
      "<class 'float'>\n",
      "<class 'str'>\n"
     ]
    }
   ],
   "source": [
    "a=10\n",
    "percent=95.7\n",
    "fruit='Apple'\n",
    "\n",
    "#for finding datatype of a variable:\n",
    "\n",
    "print(type(a))\n",
    "print(type(percent))\n",
    "print(type(fruit))"
   ]
  },
  {
   "cell_type": "code",
   "execution_count": 2,
   "id": "6cb840ec",
   "metadata": {},
   "outputs": [
    {
     "name": "stdout",
     "output_type": "stream",
     "text": [
      "37.5\n"
     ]
    }
   ],
   "source": [
    "#Performing basic operations:\n",
    "a,b,c=4,10,15\n",
    "d=(c*b)/a\n",
    "\n",
    "print(d)"
   ]
  },
  {
   "cell_type": "code",
   "execution_count": 3,
   "id": "a46dd7c4",
   "metadata": {},
   "outputs": [
    {
     "name": "stdout",
     "output_type": "stream",
     "text": [
      "Mitansh is a student of Grade 11. He studies in Woodridge High\n"
     ]
    }
   ],
   "source": [
    "#Concatenation (merging) of 2 strings\n",
    "a=\"Mitansh is a student of Grade 11.\"\n",
    "b=\"He studies in Woodridge High\"\n",
    "print(a,b)"
   ]
  },
  {
   "cell_type": "code",
   "execution_count": 4,
   "id": "90e21156",
   "metadata": {},
   "outputs": [
    {
     "name": "stdout",
     "output_type": "stream",
     "text": [
      "3 students scored 99.5 percent in Informatics Practices\n"
     ]
    }
   ],
   "source": [
    "#Making sentences using variables:\n",
    "\n",
    "x,y,z= 3, 99.5, 'Informatics Practices'\n",
    "\n",
    "print(x, 'students scored', y, 'percent', 'in', z)"
   ]
  }
 ],
 "metadata": {
  "kernelspec": {
   "display_name": "Python 3",
   "language": "python",
   "name": "python3"
  },
  "language_info": {
   "codemirror_mode": {
    "name": "ipython",
    "version": 3
   },
   "file_extension": ".py",
   "mimetype": "text/x-python",
   "name": "python",
   "nbconvert_exporter": "python",
   "pygments_lexer": "ipython3",
   "version": "3.8.8"
  }
 },
 "nbformat": 4,
 "nbformat_minor": 5
}
