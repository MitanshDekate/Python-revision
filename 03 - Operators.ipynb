{
 "cells": [
  {
   "cell_type": "code",
   "execution_count": null,
   "id": "ed7815e0",
   "metadata": {},
   "outputs": [],
   "source": [
    "#Operators are of the following types:\n",
    "\n",
    "#1. Arithmetic Operators : (+), (-), (*), (/), (**), (//), (%)\n",
    "#2. Relational Operators : (==), (!=), (>), (<)\n",
    "#3. Assignment Operators : (+=), (-=), (*=), (/=)\n",
    "#4. Logical Operators : (and), (or), (not)\n",
    "#5. Membership Operators : (in), (not in)\n"
   ]
  },
  {
   "cell_type": "code",
   "execution_count": 1,
   "id": "5267504e",
   "metadata": {},
   "outputs": [
    {
     "name": "stdout",
     "output_type": "stream",
     "text": [
      "16\n",
      "12\n",
      "40\n",
      "2.5\n",
      "100\n",
      "2\n",
      "2\n"
     ]
    }
   ],
   "source": [
    "# 1. Arithmetic Operators:\n",
    "#(Note: Answer after division is always expressed as float datatype)\n",
    "\n",
    "a,b,c=10,4,2\n",
    "\n",
    "print(a+b+c)    #Addition\n",
    "print(a+b-c)    #Subtraction\n",
    "print(a*b)      #Multiplication\n",
    "print(a/b)      #Division\n",
    "print(a**c)     #Exponent (to the power)\n",
    "print(a//b)     #Double division/floor division : gives only whole number after division (ignores decimal)\n",
    "print(a%b)      #Modulus : gives remainder after division"
   ]
  },
  {
   "cell_type": "code",
   "execution_count": 2,
   "id": "21e8bbae",
   "metadata": {},
   "outputs": [
    {
     "name": "stdout",
     "output_type": "stream",
     "text": [
      "False\n",
      "True\n",
      "True\n",
      "False\n",
      "False\n",
      "True\n"
     ]
    }
   ],
   "source": [
    "# 2. Relational Operators:\n",
    "\n",
    "w,x,y,z=5,10,15,3\n",
    "\n",
    "print(w==x)   #Compares if the values are equal\n",
    "print(w!=x)   #Compares if the values are not equal\n",
    "print(w>z)    #Compares if first value is greater than second\n",
    "print(w>y)\n",
    "print(x<w)    #Compares if first value is less than second\n",
    "print(w<x)"
   ]
  },
  {
   "cell_type": "code",
   "execution_count": 3,
   "id": "1dc75ae2",
   "metadata": {},
   "outputs": [
    {
     "name": "stdout",
     "output_type": "stream",
     "text": [
      "15\n",
      "2\n",
      "12\n",
      "3.0\n"
     ]
    }
   ],
   "source": [
    "# 3. Assignment Operators:\n",
    "\n",
    "p,q,r,s=10,5,4,6\n",
    "\n",
    "p+=q         # p = p+q = 10+5 = 15\n",
    "print(p)\n",
    "\n",
    "q-=3        # q = q-3 = 5-3 = 2\n",
    "print(q)\n",
    "\n",
    "r*=3       # r = r*3 = 4*3 = 12\n",
    "print(r)\n",
    "\n",
    "s/=2        # s = s/2 = 6/2 = 3.0  (Float value for division)\n",
    "print(s)"
   ]
  },
  {
   "cell_type": "code",
   "execution_count": 4,
   "id": "8d113ee8",
   "metadata": {},
   "outputs": [
    {
     "name": "stdout",
     "output_type": "stream",
     "text": [
      "True\n",
      "False\n",
      "False\n",
      "True\n",
      "True\n",
      "False\n",
      "False\n",
      "True\n",
      "True\n",
      "False\n",
      "False\n",
      "True\n"
     ]
    }
   ],
   "source": [
    "# 4. Logical Operators:\n",
    "\n",
    "m,n,o= 16,12,19\n",
    "\n",
    "# and : Both conditions must be true for a TRUE output\n",
    "print (m>8 and n>10)    #True\n",
    "print (m<2 and n==12)   #False\n",
    "print (o<m and n>o)     #False\n",
    "\n",
    "\n",
    "\n",
    "# or : Any one must be true for a TRUE output\n",
    "print (m>8 or n>10)     #True\n",
    "print (m<2 or n==12)    #True\n",
    "print (o<m or n>o)      #False\n",
    "    \n",
    "    \n",
    "    \n",
    "# not : Gives the exactly OPPOSITE of the actual output\n",
    "print (not (m>8 and n>10))     #False\n",
    "print (not (m<2 and n==12))    #True\n",
    "print (not (o<m and n>o))      #True\n",
    "    \n",
    "print (not (m>8 or n>10))      #False\n",
    "print (not (m>2 or n==12))     #False\n",
    "print (not (o<m or n>o))       #True\n"
   ]
  },
  {
   "cell_type": "code",
   "execution_count": 5,
   "id": "6ad6fe2a",
   "metadata": {},
   "outputs": [
    {
     "name": "stdout",
     "output_type": "stream",
     "text": [
      "True\n",
      "False\n",
      "True\n",
      "False\n",
      "False\n",
      "True\n",
      "False\n",
      "True\n"
     ]
    }
   ],
   "source": [
    "# 5. Membership Operators:\n",
    "\n",
    "list=[11, 54, 13, 12, 43, 48]\n",
    "\n",
    "# in : tells whether a value is a subset (present in) of a defined class (list or range)\n",
    "print(11 in list)            #True\n",
    "print(78 in list)            #False\n",
    "print(12 in range(1,25))     #True\n",
    "print(100 in range(1,25))    #False\n",
    "\n",
    "# not in : tells whether a value is not a subset (not present in) of a defined class (list or range) : opposite of 'in'\n",
    "print(11 not in list)            #False\n",
    "print(78 not in list)            #True\n",
    "print(12 not in range(1,25))     #False\n",
    "print(100 not in range(1,25))    #True"
   ]
  }
 ],
 "metadata": {
  "kernelspec": {
   "display_name": "Python 3",
   "language": "python",
   "name": "python3"
  },
  "language_info": {
   "codemirror_mode": {
    "name": "ipython",
    "version": 3
   },
   "file_extension": ".py",
   "mimetype": "text/x-python",
   "name": "python",
   "nbconvert_exporter": "python",
   "pygments_lexer": "ipython3",
   "version": "3.8.8"
  }
 },
 "nbformat": 4,
 "nbformat_minor": 5
}
