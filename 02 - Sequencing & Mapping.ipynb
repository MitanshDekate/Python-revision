{
 "cells": [
  {
   "cell_type": "code",
   "execution_count": null,
   "id": "a6571e85",
   "metadata": {},
   "outputs": [],
   "source": [
    "#Sequencing : Tuple and List\n",
    "#Mapping : Dictionary\n",
    "\n",
    "#1. Tuple: Round brackets/parenthesis are used for a tuple (). A tuple is immutable (data once entered cannot be changed).\n",
    "#2. List: Square brackets are used for a list []. A list is mutable (data once entered can be changed and edited).\n",
    "#3. Dictionary: Curly brackets are used for a dictionary {}. It stores a key and a value.\n"
   ]
  },
  {
   "cell_type": "code",
   "execution_count": 1,
   "id": "30d692e7",
   "metadata": {},
   "outputs": [
    {
     "name": "stdout",
     "output_type": "stream",
     "text": [
      "(12, 86, 21, 76, 92)\n",
      "(98.4, 89.2, 85.2)\n",
      "('Mitansh', 'Ishita', 'Om', 'Betsy')\n",
      "(86, 'Mitansh', 57.9, 92)\n"
     ]
    }
   ],
   "source": [
    "# Examples of Tuple:\n",
    "\n",
    "a=(12, 86, 21, 76, 92)\n",
    "b=(98.4, 89.2, 85.2)\n",
    "c=('Mitansh', 'Ishita', 'Om', 'Betsy')\n",
    "d=(86, 'Mitansh', 57.9, 92)\n",
    "\n",
    "print(a)\n",
    "print(b)\n",
    "print(c)\n",
    "print(d)"
   ]
  },
  {
   "cell_type": "code",
   "execution_count": 2,
   "id": "ce4422f3",
   "metadata": {},
   "outputs": [
    {
     "ename": "AttributeError",
     "evalue": "'tuple' object has no attribute 'remove'",
     "output_type": "error",
     "traceback": [
      "\u001b[1;31m---------------------------------------------------------------------------\u001b[0m",
      "\u001b[1;31mAttributeError\u001b[0m                            Traceback (most recent call last)",
      "\u001b[1;32m<ipython-input-2-06ae7dca10c8>\u001b[0m in \u001b[0;36m<module>\u001b[1;34m\u001b[0m\n\u001b[0;32m      1\u001b[0m \u001b[1;31m#Since a tuple is immutable, it does not have attributes like remove, sort, append etc.\u001b[0m\u001b[1;33m\u001b[0m\u001b[1;33m\u001b[0m\u001b[1;33m\u001b[0m\u001b[0m\n\u001b[1;32m----> 2\u001b[1;33m \u001b[0ma\u001b[0m\u001b[1;33m.\u001b[0m\u001b[0mremove\u001b[0m\u001b[1;33m(\u001b[0m\u001b[1;36m12\u001b[0m\u001b[1;33m)\u001b[0m\u001b[1;33m\u001b[0m\u001b[1;33m\u001b[0m\u001b[0m\n\u001b[0m",
      "\u001b[1;31mAttributeError\u001b[0m: 'tuple' object has no attribute 'remove'"
     ]
    }
   ],
   "source": [
    "#Since a tuple is immutable, it does not have attributes like remove, sort, append etc.\n",
    "a.remove(12)"
   ]
  },
  {
   "cell_type": "code",
   "execution_count": 3,
   "id": "c3ec1a49",
   "metadata": {},
   "outputs": [
    {
     "name": "stdout",
     "output_type": "stream",
     "text": [
      "[12, 86, 21, 76, 92]\n",
      "[98.4, 89.2, 85.2]\n",
      "['Mitansh', 'Ishita', 'Om', 'Betsy']\n",
      "[86, 'Mitansh', 57.9, 92]\n"
     ]
    }
   ],
   "source": [
    "#Examples of List:\n",
    "\n",
    "p=[12, 86, 21, 76, 92]\n",
    "q=[98.4, 89.2, 85.2]\n",
    "r=['Mitansh', 'Ishita', 'Om', 'Betsy']\n",
    "s=[86, 'Mitansh', 57.9, 92]\n",
    "\n",
    "print(p)\n",
    "print(q)\n",
    "print(r)\n",
    "print(s)"
   ]
  },
  {
   "cell_type": "code",
   "execution_count": 4,
   "id": "960b6208",
   "metadata": {},
   "outputs": [
    {
     "name": "stdout",
     "output_type": "stream",
     "text": [
      "[86, 21, 76, 92]\n"
     ]
    }
   ],
   "source": [
    "#List is mutable, hence we can remove elements of a list.\n",
    "\n",
    "p.remove(12)\n",
    "print(p)"
   ]
  },
  {
   "cell_type": "code",
   "execution_count": 5,
   "id": "62a47b04",
   "metadata": {},
   "outputs": [
    {
     "name": "stdout",
     "output_type": "stream",
     "text": [
      "{'Fruit': ['Apple', 'Mango', 'Grapes'], 'Car': ('Tesla', 'BMW', 'Audi'), 'Watch': ('Rolex', 1000), 'Country': 'India'}\n"
     ]
    }
   ],
   "source": [
    "#Examples of a dictionary:\n",
    "\n",
    "m={\n",
    "    'Fruit':['Apple', 'Mango','Grapes'],\n",
    "    'Car':('Tesla','BMW','Audi'),\n",
    "    'Watch':('Rolex', 1000),\n",
    "    'Country':'India'\n",
    "}\n",
    "\n",
    "print(m)"
   ]
  },
  {
   "cell_type": "code",
   "execution_count": 6,
   "id": "4f06243a",
   "metadata": {},
   "outputs": [
    {
     "name": "stdout",
     "output_type": "stream",
     "text": [
      "{'Hardware': ['Mouse', 'Keyboard', 'Monitor'], 'Software': ('Whatsapp', 'Telegram', 'Discord'), 'OS': ('Linux', 'Windows', 'MacOS'), 'Gadgets': 'iPhone'}\n"
     ]
    }
   ],
   "source": [
    "tech={\n",
    "    'Hardware':['Mouse', 'Keyboard', 'Monitor'],\n",
    "    'Software':('Whatsapp', 'Telegram', 'Discord'),\n",
    "    'OS':('Linux', 'Windows', 'MacOS'),\n",
    "    'Gadgets':'iPhone'\n",
    "}\n",
    "\n",
    "print(tech)"
   ]
  },
  {
   "cell_type": "code",
   "execution_count": 7,
   "id": "9142de43",
   "metadata": {},
   "outputs": [
    {
     "name": "stdout",
     "output_type": "stream",
     "text": [
      "Hardware : ['Mouse', 'Keyboard', 'Monitor']\n",
      "Software : ('Whatsapp', 'Telegram', 'Discord')\n",
      "OS : ('Linux', 'Windows', 'MacOS')\n",
      "Gadgets : iPhone\n"
     ]
    }
   ],
   "source": [
    "#To print every key and value of a dictionary in separate lines:\n",
    "\n",
    "for k, v in tech.items():\n",
    "    print(k,':',v)"
   ]
  }
 ],
 "metadata": {
  "kernelspec": {
   "display_name": "Python 3",
   "language": "python",
   "name": "python3"
  },
  "language_info": {
   "codemirror_mode": {
    "name": "ipython",
    "version": 3
   },
   "file_extension": ".py",
   "mimetype": "text/x-python",
   "name": "python",
   "nbconvert_exporter": "python",
   "pygments_lexer": "ipython3",
   "version": "3.8.8"
  }
 },
 "nbformat": 4,
 "nbformat_minor": 5
}
